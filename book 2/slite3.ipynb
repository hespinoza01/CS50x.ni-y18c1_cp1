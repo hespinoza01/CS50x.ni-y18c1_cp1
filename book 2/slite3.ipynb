{
 "cells": [
  {
   "cell_type": "code",
   "execution_count": 3,
   "metadata": {},
   "outputs": [],
   "source": [
    "import sqlite3"
   ]
  },
  {
   "cell_type": "code",
   "execution_count": 11,
   "metadata": {},
   "outputs": [
    {
     "name": "stdout",
     "output_type": "stream",
     "text": [
      "SQLite version: 3.26.0\n"
     ]
    }
   ],
   "source": [
    "try:\n",
    "    con = sqlite3.connect('data.db')\n",
    "    cur = con.cursor()\n",
    "    cur.execute('SELECT SQLITE_VERSION()')\n",
    "\n",
    "    data = cur.fetchone()[0]\n",
    "\n",
    "    print (\"SQLite version: {}\".format(data))\n",
    "\n",
    "except (sqlite3.Error, e):\n",
    "    print (\"Error {}:\".format(e.args[0]))\n",
    "    con.rollback()\n",
    "    sys.exit(1)\n",
    "finally:\n",
    "    if con:\n",
    "        con.close()"
   ]
  },
  {
   "cell_type": "code",
   "execution_count": 5,
   "metadata": {},
   "outputs": [],
   "source": [
    "con =  sqlite3.connect('data.db')\n",
    "\n",
    "with con:\n",
    "    cur = con.cursor()\n",
    "    cur.execute('create table book(id Int, title Text, author Text)')\n",
    "    \n",
    "    # Insert element's into table\n",
    "    cur.execute('insert into book values(1, \"Eleanor y Park\", \"Rainbow Rowell\")')\n",
    "    cur.execute('insert into book values(2, \"La insoportable levedad del ser\", \"Milan Kundera\")')\n",
    "    cur.execute('insert into book values(3, \"1984\", \"George Orwell\")')\n",
    "    cur.execute('insert into book values(4, \"Rebelión en la granja\", \"George Orwell\")')\n",
    "    cur.execute('insert into book values(5, \"Amor líquido\", \"Zygmunt Bauman\")')"
   ]
  },
  {
   "cell_type": "code",
   "execution_count": 20,
   "metadata": {},
   "outputs": [],
   "source": [
    "con = sqlite3.connect('data.db')\n",
    "\n",
    "books = (\n",
    "    (6, \"Eleanor y Park\", \"Rainbow Rowell\"),\n",
    "    (7, \"La insoportable levedad del ser\", \"Milan Kundera\"),\n",
    "    (8, \"1984\", \"George Orwell\"),\n",
    "    (9, \"Rebelión en la granja\", \"George Orwell\"),\n",
    "    (10, \"Amor líquido\", \"Zygmunt Bauman\")\n",
    ")\n",
    "\n",
    "with con:\n",
    "    cur = con.cursor()\n",
    "    cur.execute('drop table if exists book')\n",
    "    cur.execute('create table book(id Int, title Text, author Text)')\n",
    "    cur.executemany('insert into book values(?, ?, ?)', books)"
   ]
  },
  {
   "cell_type": "code",
   "execution_count": 7,
   "metadata": {},
   "outputs": [
    {
     "name": "stdout",
     "output_type": "stream",
     "text": [
      "(1, 'Eleanor y Park', 'Rainbow Rowell')\n",
      "(2, 'La insoportable levedad del ser', 'Milan Kundera')\n",
      "(3, '1984', 'George Orwell')\n",
      "(4, 'Rebelión en la granja', 'George Orwell')\n",
      "(5, 'Amor líquido', 'Zygmunt Bauman')\n"
     ]
    }
   ],
   "source": [
    "con = sqlite3.connect('data.db')\n",
    "\n",
    "with con:\n",
    "    cur = con.cursor()\n",
    "    cur.execute(\"select * from book\")\n",
    "    \n",
    "    rows = cur.fetchall()\n",
    "    \n",
    "    for row in rows:\n",
    "        print(row)"
   ]
  },
  {
   "cell_type": "code",
   "execution_count": 12,
   "metadata": {},
   "outputs": [
    {
     "name": "stdout",
     "output_type": "stream",
     "text": [
      "1 -- Eleanor y Park -- Rainbow Rowell\n",
      "2 -- La insoportable levedad del ser -- Milan Kundera\n",
      "3 -- 1984 -- George Orwell\n",
      "4 -- Rebelión en la granja -- George Orwell\n",
      "5 -- Amor líquido -- Zygmunt Bauman\n"
     ]
    }
   ],
   "source": [
    "with con:\n",
    "    cur = con.cursor()\n",
    "    cur.execute(\"select * from book\")\n",
    "    \n",
    "    while True:\n",
    "        row = cur.fetchone()\n",
    "        if row == None:\n",
    "            break;\n",
    "            \n",
    "        print(\"{} -- {} -- {}\".format(row[0], row[1], row[2]))"
   ]
  },
  {
   "cell_type": "code",
   "execution_count": 15,
   "metadata": {},
   "outputs": [
    {
     "name": "stdout",
     "output_type": "stream",
     "text": [
      "1 -- Eleanor y Park -- Rainbow Rowell\n",
      "2 -- La insoportable levedad del ser -- Milan Kundera\n",
      "3 -- 1984 -- George Orwell\n",
      "4 -- Rebelión en la granja -- George Orwell\n",
      "5 -- Amor líquido -- Zygmunt Bauman\n"
     ]
    }
   ],
   "source": [
    "with con:\n",
    "    con.row_factory = sqlite3.Row\n",
    "    cur = con.cursor()\n",
    "    cur.execute(\"select * from book\")\n",
    "    \n",
    "    rows = cur.fetchall()\n",
    "    \n",
    "    for row in rows:\n",
    "        print(\"{} -- {} -- {}\".format(row[\"id\"], row[\"title\"], row[\"author\"]))"
   ]
  },
  {
   "cell_type": "code",
   "execution_count": 32,
   "metadata": {},
   "outputs": [
    {
     "name": "stdout",
     "output_type": "stream",
     "text": [
      "===============================\n",
      "Row counts: 3\n",
      "1 -- Eleanor y Park -- Rainbow Rowell\n",
      "2 -- La insoportable levedad del ser -- Milan Kundera\n",
      "3 -- 1984 -- George Orwell\n",
      "4 -- Rebelión en la granja -- George Orwell\n",
      "5 -- Amor líquido -- Zygmunt Bauman\n",
      "6 -- De la brevedad de la vida -- Séneca\n",
      "6 -- De la brevedad de la vida -- Séneca\n",
      "6 -- De la brevedad de la vida -- Séneca\n"
     ]
    }
   ],
   "source": [
    "with con:\n",
    "    con.row_factory = sqlite3.Row\n",
    "    cur = con.cursor()\n",
    "    cur.execute(\"insert into book values(6, 'some title', 'without author')\")\n",
    "    cur.execute(\"select * from book\")\n",
    "    \n",
    "    rows = cur.fetchall()\n",
    "    \n",
    "    for row in rows:\n",
    "        print(\"{} -- {} -- {}\".format(row[\"id\"], row[\"title\"], row[\"author\"]))\n",
    "        \n",
    "print(\"===============================\")\n",
    "\n",
    "\n",
    "with con:\n",
    "    book_id = 6\n",
    "    title = \"De la brevedad de la vida\"\n",
    "    author = \"Séneca\"\n",
    "    \n",
    "    con.row_factory = sqlite3.Row\n",
    "    cur = con.cursor()\n",
    "    cur.execute(\"update book set title=?, author=? where id=?\", (title, author, book_id))\n",
    "    \n",
    "    print(\"Row counts: {}\".format(cur.rowcount))\n",
    "    \n",
    "    cur.execute(\"select * from book\")\n",
    "    rows = cur.fetchall()\n",
    "    \n",
    "    for row in rows:\n",
    "        print(\"{} -- {} -- {}\".format(row[\"id\"], row[\"title\"], row[\"author\"]))"
   ]
  },
  {
   "cell_type": "code",
   "execution_count": 35,
   "metadata": {},
   "outputs": [
    {
     "name": "stdout",
     "output_type": "stream",
     "text": [
      "Title for book with id=4 is: Rebelión en la granja\n"
     ]
    }
   ],
   "source": [
    "with con:\n",
    "    params = {\"id\": 4}\n",
    "    \n",
    "    cur = con.cursor()\n",
    "    cur.execute(\"select title from book where id=:id\", params)\n",
    "    \n",
    "    row = cur.fetchone()\n",
    "    print(\"Title for book with id={} is: {}\".format(params[\"id\"], row[0]))"
   ]
  }
 ],
 "metadata": {
  "kernelspec": {
   "display_name": "Python 3",
   "language": "python",
   "name": "python3"
  },
  "language_info": {
   "codemirror_mode": {
    "name": "ipython",
    "version": 3
   },
   "file_extension": ".py",
   "mimetype": "text/x-python",
   "name": "python",
   "nbconvert_exporter": "python",
   "pygments_lexer": "ipython3",
   "version": "3.6.7"
  }
 },
 "nbformat": 4,
 "nbformat_minor": 2
}
